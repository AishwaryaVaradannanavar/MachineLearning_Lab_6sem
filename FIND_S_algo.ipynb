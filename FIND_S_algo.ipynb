{
  "nbformat": 4,
  "nbformat_minor": 0,
  "metadata": {
    "colab": {
      "name": "FIND-S_algo.ipynb",
      "provenance": []
    },
    "kernelspec": {
      "name": "python3",
      "display_name": "Python 3"
    },
    "language_info": {
      "name": "python"
    }
  },
  "cells": [
    {
      "cell_type": "code",
      "execution_count": 24,
      "metadata": {
        "colab": {
          "base_uri": "https://localhost:8080/"
        },
        "id": "aqOAYsJi8apV",
        "outputId": "9215f8f7-74d7-45ea-af84-49fc4aaae804"
      },
      "outputs": [
        {
          "output_type": "stream",
          "name": "stdout",
          "text": [
            "     sky air temp humidity    wind water forecast enjoy sport\n",
            "0  sunny     warm   normal  strong  warm     same         yes\n",
            "1  sunny     warm     high  strong  warm     same         yes\n",
            "2  rainy     cold     high  strong  warm   change          no\n",
            "3  sunny     warm     high  strong  cool   change         yes\n"
          ]
        }
      ],
      "source": [
        "import pandas as pd\n",
        "import numpy as np\n",
        "data= pd.read_csv('data.csv')\n",
        "attributes= np.array(data)[:,:-1]\n",
        "target= np.array(data)[:,-1]\n",
        "print(data)"
      ]
    },
    {
      "cell_type": "code",
      "source": [
        "for i,val in enumerate(target):   #to get first hypothesis\n",
        "  if val==\"yes\":\n",
        "    hyp= attributes[i].copy()\n",
        "    print(\"The specific hypothesis is \", hyp)\n",
        "    break\n",
        "for i, val in enumerate(attributes):\n",
        "  if target[i]==\"yes\":\n",
        "    for x in range(len(hyp)):\n",
        "      if val[x]!= hyp[x]:\n",
        "        hyp[x]='?'\n",
        "        print(hyp)\n",
        "      else:\n",
        "        pass\n"
      ],
      "metadata": {
        "colab": {
          "base_uri": "https://localhost:8080/"
        },
        "id": "22HAIE3S9g2c",
        "outputId": "580e7b3b-ab87-47b1-eaa9-5b56b9de5415"
      },
      "execution_count": 25,
      "outputs": [
        {
          "output_type": "stream",
          "name": "stdout",
          "text": [
            "The specific hypothesis is  ['sunny' 'warm' 'normal' 'strong' 'warm' 'same']\n",
            "['sunny' 'warm' '?' 'strong' 'warm' 'same']\n",
            "['sunny' 'warm' '?' 'strong' 'warm' 'same']\n",
            "['sunny' 'warm' '?' 'strong' '?' 'same']\n",
            "['sunny' 'warm' '?' 'strong' '?' '?']\n"
          ]
        }
      ]
    },
    {
      "cell_type": "code",
      "source": [
        "print(\"hypothesis is \", hyp)"
      ],
      "metadata": {
        "colab": {
          "base_uri": "https://localhost:8080/"
        },
        "id": "iUsgxNdE9zmY",
        "outputId": "4d70046c-2900-47e6-c818-8efd2135dffa"
      },
      "execution_count": 26,
      "outputs": [
        {
          "output_type": "stream",
          "name": "stdout",
          "text": [
            "hypothesis is  ['sunny' 'warm' '?' 'strong' '?' '?']\n"
          ]
        }
      ]
    }
  ]
}